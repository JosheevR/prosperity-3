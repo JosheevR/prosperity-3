{
 "cells": [
  {
   "cell_type": "code",
   "execution_count": 1,
   "metadata": {},
   "outputs": [],
   "source": [
    "import numpy as np\n",
    "import pandas as pd"
   ]
  },
  {
   "cell_type": "code",
   "execution_count": 2,
   "metadata": {},
   "outputs": [],
   "source": [
    "ab = 1.45\n",
    "ac = 0.52\n",
    "ad = 0.72\n",
    "\n",
    "ba = 0.7\n",
    "bc = 0.31\n",
    "bd = 0.48\n",
    "\n",
    "ca = 1.95\n",
    "cb = 3.1\n",
    "cd = 1.49\n",
    "\n",
    "da = 1.34\n",
    "db = 1.98\n",
    "dc = 0.64"
   ]
  },
  {
   "cell_type": "code",
   "execution_count": 10,
   "metadata": {},
   "outputs": [
    {
     "name": "stdout",
     "output_type": "stream",
     "text": [
      "Max path: da -> ac -> cb -> ba -> ad\n",
      "Max value: 1.0887\n"
     ]
    }
   ],
   "source": [
    "edges = {\n",
    "    'ab': 1.45, 'ac': 0.52, 'ad': 0.72,\n",
    "    'ba': 0.7,  'bc': 0.31, 'bd': 0.48,\n",
    "    'ca': 1.95, 'cb': 3.1,  'cd': 1.49,\n",
    "    'da': 1.34, 'db': 1.98, 'dc': 0.64,\n",
    "}\n",
    "\n",
    "start_edges = ['da', 'db', 'dc']\n",
    "end_edges = ['ad', 'bd', 'cd']\n",
    "\n",
    "def dfs(path, product, results):\n",
    "    if len(path) == 5:\n",
    "        if path[-1] in end_edges:\n",
    "            results.append((path[:], product))\n",
    "        return\n",
    "\n",
    "    last = path[-1]\n",
    "    next_start = last[1]\n",
    "\n",
    "    for edge, value in edges.items():\n",
    "        if edge[0] == next_start:\n",
    "            dfs(path + [edge], product * value, results)\n",
    "\n",
    "results = []\n",
    "for start in start_edges:\n",
    "    dfs([start], edges[start], results)\n",
    "\n",
    "max_path, max_value = max(results, key=lambda x: x[1])\n",
    "\n",
    "print(\"Max path:\", \" -> \".join(max_path))\n",
    "print(\"Max value:\", round(max_value, 4))"
   ]
  },
  {
   "cell_type": "code",
   "execution_count": 7,
   "metadata": {},
   "outputs": [
    {
     "data": {
      "text/plain": [
       "1.08868032"
      ]
     },
     "execution_count": 7,
     "metadata": {},
     "output_type": "execute_result"
    }
   ],
   "source": [
    "da*ac*cb*ba*ad"
   ]
  }
 ],
 "metadata": {
  "kernelspec": {
   "display_name": "myenv",
   "language": "python",
   "name": "python3"
  },
  "language_info": {
   "codemirror_mode": {
    "name": "ipython",
    "version": 3
   },
   "file_extension": ".py",
   "mimetype": "text/x-python",
   "name": "python",
   "nbconvert_exporter": "python",
   "pygments_lexer": "ipython3",
   "version": "3.10.16"
  }
 },
 "nbformat": 4,
 "nbformat_minor": 2
}

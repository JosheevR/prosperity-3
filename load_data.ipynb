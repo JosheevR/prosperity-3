{
 "cells": [
  {
   "cell_type": "code",
   "execution_count": 2,
   "metadata": {},
   "outputs": [],
   "source": [
    "import pandas as pd "
   ]
  },
  {
   "cell_type": "code",
   "execution_count": 3,
   "metadata": {},
   "outputs": [
    {
     "data": {
      "text/html": [
       "<div>\n",
       "<style scoped>\n",
       "    .dataframe tbody tr th:only-of-type {\n",
       "        vertical-align: middle;\n",
       "    }\n",
       "\n",
       "    .dataframe tbody tr th {\n",
       "        vertical-align: top;\n",
       "    }\n",
       "\n",
       "    .dataframe thead th {\n",
       "        text-align: right;\n",
       "    }\n",
       "</style>\n",
       "<table border=\"1\" class=\"dataframe\">\n",
       "  <thead>\n",
       "    <tr style=\"text-align: right;\">\n",
       "      <th></th>\n",
       "      <th>day;timestamp;product;bid_price_1;bid_volume_1;bid_price_2;bid_volume_2;bid_price_3;bid_volume_3;ask_price_1;ask_volume_1;ask_price_2;ask_volume_2;ask_price_3;ask_volume_3;mid_price;profit_and_loss</th>\n",
       "    </tr>\n",
       "  </thead>\n",
       "  <tbody>\n",
       "    <tr>\n",
       "      <th>0</th>\n",
       "      <td>-1;0;RAINFOREST_RESIN;10002;1;9996;2;9995;29;1...</td>\n",
       "    </tr>\n",
       "    <tr>\n",
       "      <th>1</th>\n",
       "      <td>-1;0;KELP;2028;1;2026;2;2025;29;2029;31;;;;;20...</td>\n",
       "    </tr>\n",
       "    <tr>\n",
       "      <th>2</th>\n",
       "      <td>-1;100;KELP;2025;24;;;;;2028;2;2029;22;;;2026....</td>\n",
       "    </tr>\n",
       "    <tr>\n",
       "      <th>3</th>\n",
       "      <td>-1;100;RAINFOREST_RESIN;9996;2;9995;22;;;10004...</td>\n",
       "    </tr>\n",
       "    <tr>\n",
       "      <th>4</th>\n",
       "      <td>-1;200;RAINFOREST_RESIN;9995;20;;;;;10005;20;;...</td>\n",
       "    </tr>\n",
       "    <tr>\n",
       "      <th>...</th>\n",
       "      <td>...</td>\n",
       "    </tr>\n",
       "    <tr>\n",
       "      <th>3995</th>\n",
       "      <td>-1;199700;KELP;2020;27;;;;;2023;2;2024;25;;;20...</td>\n",
       "    </tr>\n",
       "    <tr>\n",
       "      <th>3996</th>\n",
       "      <td>-1;199800;RAINFOREST_RESIN;9995;21;;;;;10002;8...</td>\n",
       "    </tr>\n",
       "    <tr>\n",
       "      <th>3997</th>\n",
       "      <td>-1;199800;KELP;2020;21;;;;;2023;21;;;;;2021.5;...</td>\n",
       "    </tr>\n",
       "    <tr>\n",
       "      <th>3998</th>\n",
       "      <td>-1;199900;KELP;2020;32;;;;;2022;7;2023;2;2024;...</td>\n",
       "    </tr>\n",
       "    <tr>\n",
       "      <th>3999</th>\n",
       "      <td>-1;199900;RAINFOREST_RESIN;9996;2;9995;30;;;10...</td>\n",
       "    </tr>\n",
       "  </tbody>\n",
       "</table>\n",
       "<p>4000 rows × 1 columns</p>\n",
       "</div>"
      ],
      "text/plain": [
       "     day;timestamp;product;bid_price_1;bid_volume_1;bid_price_2;bid_volume_2;bid_price_3;bid_volume_3;ask_price_1;ask_volume_1;ask_price_2;ask_volume_2;ask_price_3;ask_volume_3;mid_price;profit_and_loss\n",
       "0     -1;0;RAINFOREST_RESIN;10002;1;9996;2;9995;29;1...                                                                                                                                                   \n",
       "1     -1;0;KELP;2028;1;2026;2;2025;29;2029;31;;;;;20...                                                                                                                                                   \n",
       "2     -1;100;KELP;2025;24;;;;;2028;2;2029;22;;;2026....                                                                                                                                                   \n",
       "3     -1;100;RAINFOREST_RESIN;9996;2;9995;22;;;10004...                                                                                                                                                   \n",
       "4     -1;200;RAINFOREST_RESIN;9995;20;;;;;10005;20;;...                                                                                                                                                   \n",
       "...                                                 ...                                                                                                                                                   \n",
       "3995  -1;199700;KELP;2020;27;;;;;2023;2;2024;25;;;20...                                                                                                                                                   \n",
       "3996  -1;199800;RAINFOREST_RESIN;9995;21;;;;;10002;8...                                                                                                                                                   \n",
       "3997  -1;199800;KELP;2020;21;;;;;2023;21;;;;;2021.5;...                                                                                                                                                   \n",
       "3998  -1;199900;KELP;2020;32;;;;;2022;7;2023;2;2024;...                                                                                                                                                   \n",
       "3999  -1;199900;RAINFOREST_RESIN;9996;2;9995;30;;;10...                                                                                                                                                   \n",
       "\n",
       "[4000 rows x 1 columns]"
      ]
     },
     "execution_count": 3,
     "metadata": {},
     "output_type": "execute_result"
    }
   ],
   "source": [
    "dat = pd.read_csv(\"80fafd84-23f0-491d-a9ac-33d62caa00f9.csv\")\n",
    "dat"
   ]
  },
  {
   "cell_type": "code",
   "execution_count": null,
   "metadata": {},
   "outputs": [],
   "source": []
  }
 ],
 "metadata": {
  "kernelspec": {
   "display_name": "base",
   "language": "python",
   "name": "python3"
  },
  "language_info": {
   "codemirror_mode": {
    "name": "ipython",
    "version": 3
   },
   "file_extension": ".py",
   "mimetype": "text/x-python",
   "name": "python",
   "nbconvert_exporter": "python",
   "pygments_lexer": "ipython3",
   "version": "3.12.4"
  }
 },
 "nbformat": 4,
 "nbformat_minor": 2
}

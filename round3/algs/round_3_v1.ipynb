{
 "cells": [
  {
   "cell_type": "code",
   "execution_count": 18,
   "id": "c2aadaa6",
   "metadata": {},
   "outputs": [],
   "source": [
    "import numpy as np\n",
    "import pandas as pd\n",
    "import matplotlib.pyplot as plt\n",
    "from scipy.optimize import brentq\n",
    "from scipy.stats import norm\n",
    "from sklearn.preprocessing import PolynomialFeatures\n",
    "from sklearn.linear_model import LinearRegression\n",
    "from math import exp, log, sqrt"
   ]
  },
  {
   "cell_type": "code",
   "execution_count": 19,
   "metadata": {},
   "outputs": [],
   "source": [
    "file_path = \"/Users/pranaykumar/Documents/GitHub/prosperity-3/round3/data/prices_round_3_day_0.csv\"\n",
    "df = pd.read_csv(file_path, delimiter=';')\n",
    "Strike10000 = df[df['product'] == \"VOLCANIC_ROCK_VOUCHER_10000\"]\n",
    "rock = df[df['product'] == \"VOLCANIC_ROCK\"]"
   ]
  },
  {
   "cell_type": "code",
   "execution_count": 20,
   "id": "2c4b96e0",
   "metadata": {},
   "outputs": [],
   "source": [
    "def bs_price(S, K, T, r, sigma, option_type='call'):\n",
    "    \"\"\"Black-Scholes price for a European call or put (no dividends).\"\"\"\n",
    "    if T <= 0:\n",
    "        # At expiration, option value is its intrinsic value\n",
    "        if option_type == 'call':\n",
    "            return max(S - K, 0)\n",
    "        else:\n",
    "            return max(K - S, 0)\n",
    "    # Black-Scholes d1 and d2\n",
    "    d1 = (log(S/K) + (r + 0.5 * sigma**2) * T) / (sigma * sqrt(T))\n",
    "    d2 = d1 - sigma * sqrt(T)\n",
    "    # CDF of standard normal\n",
    "    N = lambda x: 0.5 * (1 + math.erf(x / math.sqrt(2)))\n",
    "    if option_type == 'call':\n",
    "        return S * N(d1) - K * exp(-r*T) * N(d2)\n",
    "    else:  # European put\n",
    "        return K * exp(-r*T) * N(-d2) - S * N(-d1)\n",
    "\n",
    "def implied_volatility(price, S, K, T, r=0.0, option_type='call'):\n",
    "    \"\"\"Solve for implied volatility given an option price via Brent's method.\"\"\"\n",
    "    # Basic sanity checks\n",
    "    if price <= 0 or S <= 0 or K <= 0:\n",
    "        return float('nan')\n",
    "    if T <= 0:\n",
    "        # If at or past expiration, implied vol is not defined (return NaN)\n",
    "        return float('nan')\n",
    "    # Compute intrinsic values for bounds\n",
    "    intrinsic = max(S - K*exp(-r*T), 0) if option_type == 'call' else max(K*exp(-r*T) - S, 0)\n",
    "    # Arbitrage bounds check\n",
    "    if option_type == 'call':\n",
    "        if price < intrinsic or price > S:\n",
    "            return float('nan')\n",
    "    else:  # put\n",
    "        if price < intrinsic or price > K*exp(-r*T):\n",
    "            return float('nan')\n",
    "    # Define the target function f(sigma) = BS_price(sigma) - market_price\n",
    "    def objective(sigma):\n",
    "        return bs_price(S, K, T, r, sigma, option_type) - price\n",
    "    # Handle near-intrinsic case: if price is exactly intrinsic, vol ~ 0\n",
    "    if abs(price - intrinsic) < 1e-12:\n",
    "        return 0.0\n",
    "    # Use Brent's method to find volatility root, with a broad bracket\n",
    "    try:\n",
    "        iv = optimize.brentq(objective, 1e-10, 5.0, maxiter=1000)\n",
    "    except (ValueError, RuntimeError):\n",
    "        # Retry with an even wider bracket if needed\n",
    "        try:\n",
    "            iv = optimize.brentq(objective, 1e-10, 10.0, maxiter=1000)\n",
    "        except Exception:\n",
    "            iv = float('nan')\n",
    "    return iv"
   ]
  },
  {
   "cell_type": "code",
   "execution_count": 21,
   "metadata": {},
   "outputs": [
    {
     "data": {
      "text/html": [
       "<div>\n",
       "<style scoped>\n",
       "    .dataframe tbody tr th:only-of-type {\n",
       "        vertical-align: middle;\n",
       "    }\n",
       "\n",
       "    .dataframe tbody tr th {\n",
       "        vertical-align: top;\n",
       "    }\n",
       "\n",
       "    .dataframe thead th {\n",
       "        text-align: right;\n",
       "    }\n",
       "</style>\n",
       "<table border=\"1\" class=\"dataframe\">\n",
       "  <thead>\n",
       "    <tr style=\"text-align: right;\">\n",
       "      <th></th>\n",
       "      <th>timestamp</th>\n",
       "      <th>mid_price_underlying</th>\n",
       "      <th>mid_price_option</th>\n",
       "      <th>implied_vol</th>\n",
       "    </tr>\n",
       "  </thead>\n",
       "  <tbody>\n",
       "    <tr>\n",
       "      <th>0</th>\n",
       "      <td>0</td>\n",
       "      <td>10503.0</td>\n",
       "      <td>505.5</td>\n",
       "      <td>NaN</td>\n",
       "    </tr>\n",
       "    <tr>\n",
       "      <th>1</th>\n",
       "      <td>100</td>\n",
       "      <td>10510.0</td>\n",
       "      <td>515.5</td>\n",
       "      <td>NaN</td>\n",
       "    </tr>\n",
       "    <tr>\n",
       "      <th>2</th>\n",
       "      <td>200</td>\n",
       "      <td>10513.0</td>\n",
       "      <td>516.5</td>\n",
       "      <td>NaN</td>\n",
       "    </tr>\n",
       "    <tr>\n",
       "      <th>3</th>\n",
       "      <td>300</td>\n",
       "      <td>10517.5</td>\n",
       "      <td>521.5</td>\n",
       "      <td>NaN</td>\n",
       "    </tr>\n",
       "    <tr>\n",
       "      <th>4</th>\n",
       "      <td>400</td>\n",
       "      <td>10509.5</td>\n",
       "      <td>512.5</td>\n",
       "      <td>NaN</td>\n",
       "    </tr>\n",
       "  </tbody>\n",
       "</table>\n",
       "</div>"
      ],
      "text/plain": [
       "   timestamp  mid_price_underlying  mid_price_option  implied_vol\n",
       "0          0               10503.0             505.5          NaN\n",
       "1        100               10510.0             515.5          NaN\n",
       "2        200               10513.0             516.5          NaN\n",
       "3        300               10517.5             521.5          NaN\n",
       "4        400               10509.5             512.5          NaN"
      ]
     },
     "execution_count": 21,
     "metadata": {},
     "output_type": "execute_result"
    }
   ],
   "source": [
    "merged = pd.merge(Strike10000[['timestamp', 'mid_price']], rock[['timestamp', 'mid_price']],\n",
    "                  on='timestamp', suffixes=('_option', '_underlying'))\n",
    "\n",
    "# Add Black-Scholes inputs\n",
    "K = 10000\n",
    "T = 10 / 365  # or use 5/252 for trading days\n",
    "r = 0.05\n",
    "\n",
    "# Compute implied volatility\n",
    "merged['implied_vol'] = merged.apply(\n",
    "    lambda row: implied_volatility(row['mid_price_option'], row['mid_price_underlying'], K, T, r),\n",
    "    axis=1)\n",
    "\n",
    "# Check the result\n",
    "merged[['timestamp', 'mid_price_underlying', 'mid_price_option', 'implied_vol']].head()"
   ]
  },
  {
   "cell_type": "code",
   "execution_count": 24,
   "metadata": {},
   "outputs": [
    {
     "name": "stdout",
     "output_type": "stream",
     "text": [
      "Option price: 505.5, Underlying: 10503.0, Intrinsic: 516.6892517964407\n"
     ]
    }
   ],
   "source": [
    "row = merged.iloc[0]\n",
    "S = row['mid_price_underlying']\n",
    "price = row['mid_price_option']\n",
    "print(f\"Option price: {price}, Underlying: {S}, Intrinsic: {max(S - K * exp(-r*T), 0)}\")\n"
   ]
  },
  {
   "cell_type": "code",
   "execution_count": 25,
   "metadata": {},
   "outputs": [],
   "source": [
    "def objective(sigma):\n",
    "    val = bs_price(S, K, T, r, sigma, option_type) - price\n",
    "    print(f\"Trying sigma={sigma:.4f}, result={val:.4f}\")\n",
    "    return val\n"
   ]
  },
  {
   "cell_type": "code",
   "execution_count": 26,
   "metadata": {},
   "outputs": [],
   "source": [
    "merged['simple_iv'] = np.sqrt(2 * abs(np.log(S / K)) / T)\n"
   ]
  },
  {
   "cell_type": "code",
   "execution_count": 27,
   "metadata": {},
   "outputs": [],
   "source": [
    "def safe_iv(row):\n",
    "    try:\n",
    "        if any(pd.isnull([row['mid_price_option'], row['mid_price_underlying']])):\n",
    "            return float('nan')\n",
    "        if row['mid_price_option'] <= 0 or row['mid_price_underlying'] <= 0:\n",
    "            return float('nan')\n",
    "        return implied_volatility(row['mid_price_option'], row['mid_price_underlying'], K, T, r)\n",
    "    except:\n",
    "        return float('nan')\n",
    "\n",
    "merged['implied_vol'] = merged.apply(safe_iv, axis=1)\n"
   ]
  },
  {
   "cell_type": "code",
   "execution_count": 28,
   "metadata": {},
   "outputs": [
    {
     "data": {
      "text/html": [
       "<div>\n",
       "<style scoped>\n",
       "    .dataframe tbody tr th:only-of-type {\n",
       "        vertical-align: middle;\n",
       "    }\n",
       "\n",
       "    .dataframe tbody tr th {\n",
       "        vertical-align: top;\n",
       "    }\n",
       "\n",
       "    .dataframe thead th {\n",
       "        text-align: right;\n",
       "    }\n",
       "</style>\n",
       "<table border=\"1\" class=\"dataframe\">\n",
       "  <thead>\n",
       "    <tr style=\"text-align: right;\">\n",
       "      <th></th>\n",
       "      <th>timestamp</th>\n",
       "      <th>mid_price_underlying</th>\n",
       "      <th>mid_price_option</th>\n",
       "      <th>implied_vol</th>\n",
       "    </tr>\n",
       "  </thead>\n",
       "  <tbody>\n",
       "    <tr>\n",
       "      <th>0</th>\n",
       "      <td>0</td>\n",
       "      <td>10503.0</td>\n",
       "      <td>505.5</td>\n",
       "      <td>NaN</td>\n",
       "    </tr>\n",
       "    <tr>\n",
       "      <th>1</th>\n",
       "      <td>100</td>\n",
       "      <td>10510.0</td>\n",
       "      <td>515.5</td>\n",
       "      <td>NaN</td>\n",
       "    </tr>\n",
       "    <tr>\n",
       "      <th>2</th>\n",
       "      <td>200</td>\n",
       "      <td>10513.0</td>\n",
       "      <td>516.5</td>\n",
       "      <td>NaN</td>\n",
       "    </tr>\n",
       "    <tr>\n",
       "      <th>3</th>\n",
       "      <td>300</td>\n",
       "      <td>10517.5</td>\n",
       "      <td>521.5</td>\n",
       "      <td>NaN</td>\n",
       "    </tr>\n",
       "    <tr>\n",
       "      <th>4</th>\n",
       "      <td>400</td>\n",
       "      <td>10509.5</td>\n",
       "      <td>512.5</td>\n",
       "      <td>NaN</td>\n",
       "    </tr>\n",
       "  </tbody>\n",
       "</table>\n",
       "</div>"
      ],
      "text/plain": [
       "   timestamp  mid_price_underlying  mid_price_option  implied_vol\n",
       "0          0               10503.0             505.5          NaN\n",
       "1        100               10510.0             515.5          NaN\n",
       "2        200               10513.0             516.5          NaN\n",
       "3        300               10517.5             521.5          NaN\n",
       "4        400               10509.5             512.5          NaN"
      ]
     },
     "execution_count": 28,
     "metadata": {},
     "output_type": "execute_result"
    }
   ],
   "source": [
    "merged[['timestamp', 'mid_price_underlying', 'mid_price_option', 'implied_vol']].head()\n"
   ]
  },
  {
   "cell_type": "code",
   "execution_count": null,
   "metadata": {},
   "outputs": [],
   "source": []
  }
 ],
 "metadata": {
  "kernelspec": {
   "display_name": "myenv",
   "language": "python",
   "name": "python3"
  },
  "language_info": {
   "codemirror_mode": {
    "name": "ipython",
    "version": 3
   },
   "file_extension": ".py",
   "mimetype": "text/x-python",
   "name": "python",
   "nbconvert_exporter": "python",
   "pygments_lexer": "ipython3",
   "version": "3.10.16"
  }
 },
 "nbformat": 4,
 "nbformat_minor": 5
}
